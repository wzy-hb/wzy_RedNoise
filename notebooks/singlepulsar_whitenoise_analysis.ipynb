{
 "cells": [
  {
   "cell_type": "markdown",
   "metadata": {},
   "source": [
    "# Using enterprise to analyze PTA data\n",
    "\n",
    "In this notebook you will learn:\n",
    "* How to use `enterprise` to interact with NANOGrav data,\n",
    "* How to setup an analysis of individual pulsar white noise properties,\n",
    "* How to post-process your results.\n",
    "\n",
    "If you are interested in working through this notebook, but do not want to install the software, we have prepared a [Google Colab notebook](https://colab.research.google.com/drive/11aRVepxn_whRm_JWCbgL_sVqn1hjo9Ik?usp=sharing)\n",
    "\n",
    "By copying this notebook, you can install the software to your own Google Colab account and run the software without installation on your computer."
   ]
  },
  {
   "cell_type": "markdown",
   "metadata": {},
   "source": [
    "# Load packages and modules"
   ]
  },
  {
   "cell_type": "code",
   "execution_count": 1,
   "metadata": {
    "ExecuteTime": {
     "end_time": "2018-05-15T17:42:33.177433Z",
     "start_time": "2018-05-15T17:42:31.657125Z"
    }
   },
   "outputs": [
    {
     "name": "stdout",
     "output_type": "stream",
     "text": [
      "Warning: cannot find astropy, units support will not be available.\n",
      "Optional mpi4py package is not installed.  MPI support is not available.\n"
     ]
    }
   ],
   "source": [
    "from __future__ import division\n",
    "\n",
    "%matplotlib inline\n",
    "%config InlineBackend.figure_format = 'retina'\n",
    "%load_ext autoreload\n",
    "%autoreload 2\n",
    "\n",
    "import os, glob, json, pickle\n",
    "import matplotlib.pyplot as plt\n",
    "import numpy as np\n",
    "import scipy.linalg as sl\n",
    "\n",
    "import enterprise\n",
    "from enterprise.pulsar import Pulsar\n",
    "import enterprise.signals.parameter as parameter\n",
    "from enterprise.signals import utils\n",
    "from enterprise.signals import signal_base\n",
    "from enterprise.signals import selections\n",
    "from enterprise.signals.selections import Selection\n",
    "from enterprise.signals import white_signals\n",
    "from enterprise.signals import gp_signals\n",
    "from enterprise.signals import deterministic_signals\n",
    "import enterprise.constants as const\n",
    "\n",
    "import corner\n",
    "from PTMCMCSampler.PTMCMCSampler import PTSampler as ptmcmc\n",
    "\n",
    "import precession_model"
   ]
  },
  {
   "cell_type": "markdown",
   "metadata": {},
   "source": [
    "## Get par, tim, and noise files"
   ]
  },
  {
   "cell_type": "code",
   "execution_count": 2,
   "metadata": {},
   "outputs": [],
   "source": [
    "psrlist = None # define a list of pulsar name strings that can be used to filter."
   ]
  },
  {
   "cell_type": "code",
   "execution_count": 3,
   "metadata": {
    "ExecuteTime": {
     "end_time": "2018-05-15T17:42:39.433040Z",
     "start_time": "2018-05-15T17:42:39.407641Z"
    }
   },
   "outputs": [
    {
     "name": "stdout",
     "output_type": "stream",
     "text": [
      "../data\n"
     ]
    }
   ],
   "source": [
    "datadir = './data'\n",
    "if not os.path.isdir(datadir):\n",
    "    datadir = '../data'\n",
    "print(datadir)"
   ]
  },
  {
   "cell_type": "code",
   "execution_count": 4,
   "metadata": {
    "ExecuteTime": {
     "end_time": "2018-05-15T17:42:40.533083Z",
     "start_time": "2018-05-15T17:42:40.500941Z"
    }
   },
   "outputs": [],
   "source": [
    "psrstring = 'B1937+21'  # name of the pulsar\n",
    "\n",
    "parfiles = sorted(glob.glob(os.path.join(os.path.join(datadir, 'par'), psrstring + '*')))\n",
    "timfiles = sorted(glob.glob(os.path.join(os.path.join(datadir, 'tim'), psrstring + '*')))\n",
    "\n",
    "# filter\n",
    "if psrlist is not None:\n",
    "    parfiles = [x for x in parfiles if x.split('/')[-1].split('.')[0] in psrlist]\n",
    "    timfiles = [x for x in timfiles if x.split('/')[-1].split('.')[0] in psrlist]\n",
    "\n",
    "# Make sure you use the tempo2 parfile for J1713+0747!!\n",
    "# ...filtering out the tempo parfile... \n",
    "parfiles = [x for x in parfiles if 'J1713+0747_NANOGrav_12yv3.gls.par' not in x]"
   ]
  },
  {
   "cell_type": "code",
   "execution_count": 5,
   "metadata": {
    "ExecuteTime": {
     "end_time": "2018-05-15T17:42:40.937284Z",
     "start_time": "2018-05-15T17:42:40.907923Z"
    }
   },
   "outputs": [
    {
     "name": "stdout",
     "output_type": "stream",
     "text": [
      "['../data/par/B1937+21_NANOGrav_12yv3.gls.par']\n",
      "['../data/tim/B1937+21_NANOGrav_12yv3.tim']\n"
     ]
    }
   ],
   "source": [
    "# if these are empty, then your data directory is wrong.\n",
    "print(parfiles)\n",
    "print(timfiles)"
   ]
  },
  {
   "cell_type": "markdown",
   "metadata": {},
   "source": [
    "## Load into `Pulsar` class list"
   ]
  },
  {
   "cell_type": "markdown",
   "metadata": {},
   "source": [
    "* The `enterprise` Pulsar class uses `libstempo` to read in `par` and `tim` files, then stores all pulsar data into a `Pulsar` object. This object contains all data and meta-data needed for the ensuing pulsar and PTA analysis. You no longer need to reference the `par` and `tim` files after this cell.\n",
    "* Note below that you can explicitly declare which version of the JPL solar-system ephemeris model that will be used to compute the Roemer delay between the geocenter and the barycenter (e.g. `DE438`). Otherwise the default values will be taken from the `par` files. Explicitly declaring the version here is good practice.\n",
    "* You can also explicitly set the clock file to a version of `BIPM`, e.g. `BIPM(2018)`. This is less important, and you can let the code take the value from the `par` file.\n",
    "* When you execute the following cell, you will get warnings like `WARNING: Could not find pulsar distance for PSR ...`. Don't worry! This is expected, and fine. Not all pulsars have well constrained distances, and will be set to `1 kpc` with a `20%` uncertainty."
   ]
  },
  {
   "cell_type": "markdown",
   "metadata": {
    "ExecuteTime": {
     "end_time": "2018-05-15T17:44:54.738924Z",
     "start_time": "2018-05-15T17:42:43.023316Z"
    }
   },
   "source": [
    "### Read par and tim files into `enterprise` `Pulsar` objects"
   ]
  },
  {
   "cell_type": "code",
   "execution_count": 6,
   "metadata": {
    "ExecuteTime": {
     "end_time": "2018-05-15T17:44:54.738924Z",
     "start_time": "2018-05-15T17:42:43.023316Z"
    }
   },
   "outputs": [
    {
     "name": "stdout",
     "output_type": "stream",
     "text": [
      "[tempo2Util.C:396] Warning: [MISC1] Unknown parameter in par file:  DMX\n",
      "[tempo2Util.C:401] Warning: [DUP1] duplicated warnings have been suppressed.\n",
      "\n",
      "WARNING: Using tempo RNAMP parameter: setting TNRedC to 100!\n",
      "[tempo2Util.C:396] Warning: [PAR2] Have not set a DM epoch. The period epoch will be used instead. ../par/B1937+21_NANOGrav_12yv3.gls.par\n",
      "[tempo2Util.C:396] Warning: [TIM1] Please place MODE flags in the parameter file \n",
      "[observatory.C:272] Warning: Assuming site '1' means 'gbt'\n",
      "[observatory.C:272] Warning: Assuming site '3' means 'ao'\n"
     ]
    }
   ],
   "source": [
    "psrs = []\n",
    "for p, t in zip(parfiles, timfiles):\n",
    "    if psrstring in p:\n",
    "        psr = Pulsar(p, t, ephem='DE438', clk='BIPM(2018)')\n",
    "        psrs.append(psr)"
   ]
  },
  {
   "cell_type": "code",
   "execution_count": 7,
   "metadata": {},
   "outputs": [],
   "source": [
    "## Get parameter noise dictionary (for comparison in this notebook)\n",
    "noise_ng12 = datadir + '/channelized_12p5yr_v3_full_noisedict.json'\n",
    "\n",
    "params = {}\n",
    "with open(noise_ng12, 'r') as fp:\n",
    "    params.update(json.load(fp))"
   ]
  },
  {
   "cell_type": "markdown",
   "metadata": {
    "ExecuteTime": {
     "end_time": "2018-05-11T19:00:23.677385Z",
     "start_time": "2018-05-11T19:00:23.570716Z"
    }
   },
   "source": [
    "# Single pulsar analysis\n",
    "* `enterprise` is structured so that one first creates `parameters`, then `signals` that these `parameters` belong to, then finally a `model` that is the union of all `signals` and the `data`.\n",
    "* We will show this explicitly below, then introduce some model shortcut code that will make your life easier.\n",
    "* We test on `J1853+1303`."
   ]
  },
  {
   "cell_type": "code",
   "execution_count": 8,
   "metadata": {
    "ExecuteTime": {
     "end_time": "2018-05-15T17:49:30.300840Z",
     "start_time": "2018-05-15T17:49:30.261826Z"
    }
   },
   "outputs": [],
   "source": [
    "psr = [p for p in psrs if p.name == 'B1937+21'][0]"
   ]
  },
  {
   "cell_type": "code",
   "execution_count": 9,
   "metadata": {
    "ExecuteTime": {
     "end_time": "2018-05-15T17:49:30.750433Z",
     "start_time": "2018-05-15T17:49:30.721856Z"
    }
   },
   "outputs": [
    {
     "name": "stdout",
     "output_type": "stream",
     "text": [
      "12.772376976266186\n"
     ]
    }
   ],
   "source": [
    "# find the maximum time span to set red-noise/DM-variation frequency sampling\n",
    "tmin = psr.toas.min()\n",
    "tmax = psr.toas.max()\n",
    "Tspan = np.max(tmax) - np.min(tmin)\n",
    "print(Tspan / 365.25 / 24 / 60 / 60)  # time span of data in years"
   ]
  },
  {
   "cell_type": "code",
   "execution_count": 10,
   "metadata": {
    "ExecuteTime": {
     "end_time": "2018-05-15T17:49:31.267060Z",
     "start_time": "2018-05-15T17:49:31.239006Z"
    }
   },
   "outputs": [],
   "source": [
    "# define selection by observing backend\n",
    "# there will be separate white noise parameters for each observing backend\n",
    "# since NANOGrav began taking data, there have been two generations of backends\n",
    "# (ASP and PUPPI at Arecibo, GASP and GUPPI at Green Bank)\n",
    "selection = selections.Selection(selections.by_backend)"
   ]
  },
  {
   "cell_type": "markdown",
   "metadata": {},
   "source": [
    "## Create parameters\n",
    "* White noise parameters are varied for each pulsar and then set to their most likely values when running the analyses for the entire array.\n",
    "* These parameters are saved as a dictionary to a `.json` noisefile or set of noisefiles for easy access.\n",
    "* Here we go through what one of these white noise searches looks like in long form, and then we will use shortcuts to do the same thing."
   ]
  },
  {
   "cell_type": "code",
   "execution_count": 11,
   "metadata": {
    "ExecuteTime": {
     "end_time": "2018-05-15T18:05:15.402712Z",
     "start_time": "2018-05-15T18:05:15.370248Z"
    }
   },
   "outputs": [],
   "source": [
    "# white noise parameters\n",
    "white_vary = True\n",
    "if white_vary:\n",
    "    efac = parameter.Uniform(0.01, 10.0)\n",
    "    equad = parameter.Uniform(-8.5, -5)\n",
    "    ecorr = parameter.Uniform(-8.5, -5)\n",
    "else:\n",
    "    efac = parameter.Constant() \n",
    "    equad = parameter.Constant() \n",
    "    ecorr = parameter.Constant() # we'll set these later with the params dictionary\n",
    "\n",
    "# red noise parameters\n",
    "log10_A = parameter.Uniform(-20, -11)\n",
    "gamma = parameter.Uniform(0, 7)"
   ]
  },
  {
   "cell_type": "markdown",
   "metadata": {},
   "source": [
    "## Create signals"
   ]
  },
  {
   "cell_type": "code",
   "execution_count": 12,
   "metadata": {
    "ExecuteTime": {
     "end_time": "2018-05-15T18:05:18.620288Z",
     "start_time": "2018-05-15T18:05:18.583614Z"
    }
   },
   "outputs": [],
   "source": [
    "# white noise\n",
    "ef = white_signals.MeasurementNoise(efac=efac, log10_t2equad=equad, selection=selection)\n",
    "ec = white_signals.EcorrKernelNoise(log10_ecorr=ecorr, selection=selection)\n",
    "\n",
    "# red noise (powerlaw with 30 frequencies)\n",
    "# pl = utils.powerlaw(log10_A=log10_A, gamma=gamma)\n",
    "# rn = gp_signals.FourierBasisGP(spectrum=pl, components=30, Tspan=Tspan)\n",
    "rn = precession_model.RedNoise_delay_block()\n",
    "\n",
    "# timing model\n",
    "tm = gp_signals.TimingModel(use_svd=True) # stabilizing timing model design matrix with SVD"
   ]
  },
  {
   "cell_type": "markdown",
   "metadata": {},
   "source": [
    "## Piece the full model together"
   ]
  },
  {
   "cell_type": "code",
   "execution_count": 13,
   "metadata": {
    "ExecuteTime": {
     "end_time": "2018-05-15T18:05:19.245655Z",
     "start_time": "2018-05-15T18:05:19.214962Z"
    }
   },
   "outputs": [],
   "source": [
    "# full model\n",
    "s = ef + ec + rn + tm\n"
   ]
  },
  {
   "cell_type": "code",
   "execution_count": 14,
   "metadata": {
    "ExecuteTime": {
     "end_time": "2018-05-15T18:05:29.701318Z",
     "start_time": "2018-05-15T18:05:20.295739Z"
    }
   },
   "outputs": [],
   "source": [
    "# intialize a single-pulsar pta model\n",
    "# see how the \"model\" acts on the \"pulsar\" object...\n",
    "pta = signal_base.PTA(s(psr))"
   ]
  },
  {
   "cell_type": "code",
   "execution_count": 15,
   "metadata": {},
   "outputs": [
    {
     "data": {
      "text/plain": [
       "['B1937+21_L-wide_ASP_efac',\n",
       " 'B1937+21_L-wide_ASP_log10_ecorr',\n",
       " 'B1937+21_L-wide_ASP_log10_t2equad',\n",
       " 'B1937+21_L-wide_PUPPI_efac',\n",
       " 'B1937+21_L-wide_PUPPI_log10_ecorr',\n",
       " 'B1937+21_L-wide_PUPPI_log10_t2equad',\n",
       " 'B1937+21_Rcvr1_2_GASP_efac',\n",
       " 'B1937+21_Rcvr1_2_GASP_log10_ecorr',\n",
       " 'B1937+21_Rcvr1_2_GASP_log10_t2equad',\n",
       " 'B1937+21_Rcvr1_2_GUPPI_efac',\n",
       " 'B1937+21_Rcvr1_2_GUPPI_log10_ecorr',\n",
       " 'B1937+21_Rcvr1_2_GUPPI_log10_t2equad',\n",
       " 'B1937+21_Rcvr_800_GASP_efac',\n",
       " 'B1937+21_Rcvr_800_GASP_log10_ecorr',\n",
       " 'B1937+21_Rcvr_800_GASP_log10_t2equad',\n",
       " 'B1937+21_Rcvr_800_GUPPI_efac',\n",
       " 'B1937+21_Rcvr_800_GUPPI_log10_ecorr',\n",
       " 'B1937+21_Rcvr_800_GUPPI_log10_t2equad',\n",
       " 'B1937+21_S-wide_ASP_efac',\n",
       " 'B1937+21_S-wide_ASP_log10_ecorr',\n",
       " 'B1937+21_S-wide_ASP_log10_t2equad',\n",
       " 'B1937+21_S-wide_PUPPI_efac',\n",
       " 'B1937+21_S-wide_PUPPI_log10_ecorr',\n",
       " 'B1937+21_S-wide_PUPPI_log10_t2equad',\n",
       " 'RedNoise_P',\n",
       " 'RedNoise_a1',\n",
       " 'RedNoise_a2',\n",
       " 'RedNoise_k',\n",
       " 'RedNoise_t0']"
      ]
     },
     "execution_count": 15,
     "metadata": {},
     "output_type": "execute_result"
    }
   ],
   "source": [
    "pta.param_names"
   ]
  },
  {
   "cell_type": "code",
   "execution_count": 16,
   "metadata": {
    "ExecuteTime": {
     "end_time": "2018-05-15T18:05:29.821629Z",
     "start_time": "2018-05-15T18:05:29.795298Z"
    }
   },
   "outputs": [
    {
     "data": {
      "text/plain": [
       "29"
      ]
     },
     "execution_count": 16,
     "metadata": {},
     "output_type": "execute_result"
    }
   ],
   "source": [
    "len(pta.params)  # the higher this number is, the longer the model will take to  \n",
    "                 # sample and the more samples it will require"
   ]
  },
  {
   "cell_type": "markdown",
   "metadata": {},
   "source": [
    "## Draw initial sample from model parameter space"
   ]
  },
  {
   "cell_type": "code",
   "execution_count": 17,
   "metadata": {
    "ExecuteTime": {
     "end_time": "2018-05-15T18:05:48.625620Z",
     "start_time": "2018-05-15T18:05:48.595761Z"
    }
   },
   "outputs": [],
   "source": [
    "x0 = np.hstack([p.sample() for p in pta.params])\n",
    "ndim = len(x0)"
   ]
  },
  {
   "cell_type": "markdown",
   "metadata": {},
   "source": [
    "## Setup sampler (simple, with no tricks)"
   ]
  },
  {
   "cell_type": "code",
   "execution_count": 18,
   "metadata": {
    "ExecuteTime": {
     "end_time": "2018-05-15T18:05:49.721570Z",
     "start_time": "2018-05-15T18:05:49.690910Z"
    }
   },
   "outputs": [],
   "source": [
    "# initial jump covariance matrix\n",
    "cov = np.diag(np.ones(ndim) * 0.01**2) # helps to tune MCMC proposal distribution\n",
    "\n",
    "# where chains will be written to\n",
    "outdir = '../chains_singlepsr_wn_{}/'.format(str(psr.name))\n",
    "\n",
    "# sampler object\n",
    "sampler = ptmcmc(ndim, pta.get_lnlikelihood, pta.get_lnprior, cov,\n",
    "                 outDir=outdir, \n",
    "                 resume=False)"
   ]
  },
  {
   "cell_type": "markdown",
   "metadata": {},
   "source": [
    "## Sample the parameter space\n",
    "\n",
    "This will take around an **hour**. Note that the normal runs typically use 5e6 samples. For the sake of finishing the sampling process more quickly, we use a tenth of that for this tutorial. The sampling process can be interrupted and resumed at a later time by changing to `resume=True` in the above cell."
   ]
  },
  {
   "cell_type": "code",
   "execution_count": null,
   "metadata": {
    "ExecuteTime": {
     "end_time": "2018-05-15T18:07:34.298903Z",
     "start_time": "2018-05-15T18:05:51.594933Z"
    },
    "scrolled": true
   },
   "outputs": [
    {
     "name": "stderr",
     "output_type": "stream",
     "text": [
      "/home/wzy/miniconda3/envs/PTA/lib/python3.9/site-packages/enterprise/signals/parameter.py:62: RuntimeWarning: divide by zero encountered in log\n",
      "  logpdf = np.log(self.prior(value, **kwargs))\n"
     ]
    },
    {
     "name": "stdout",
     "output_type": "stream",
     "text": [
      "Finished 0.33 percent in 1748.049000 s Acceptance rate = 0.210575Adding DE jump with weight 50\n",
      "Finished 0.70 percent in 2013.177629 s Acceptance rate = 0.322095"
     ]
    },
    {
     "name": "stderr",
     "output_type": "stream",
     "text": [
      "/home/wzy/miniconda3/envs/PTA/lib/python3.9/site-packages/PTMCMCSampler/PTMCMCSampler.py:464: RuntimeWarning: All-NaN axis encountered\n",
      "  np.nanmax([acor.acor(self._chain[self.burn : (iter - 1), ii])[0] for ii in range(self.ndim)]),\n"
     ]
    },
    {
     "name": "stdout",
     "output_type": "stream",
     "text": [
      "Finished 35.53 percent in 57758.634626 s Acceptance rate = 0.0664165"
     ]
    }
   ],
   "source": [
    "# sampler for N steps\n",
    "N = int(3e6) # normally, we would use 5e6 samples (this will save time)\n",
    "\n",
    "# SCAM = Single Component Adaptive Metropolis\n",
    "# AM = Adaptive Metropolis\n",
    "# DE = Differential Evolution\n",
    "## You can keep all these set at default values\n",
    "sampler.sample(x0, N, SCAMweight=30, AMweight=15, DEweight=50, )"
   ]
  },
  {
   "cell_type": "code",
   "execution_count": null,
   "metadata": {},
   "outputs": [],
   "source": [
    "print('finish')"
   ]
  }
 ],
 "metadata": {
  "anaconda-cloud": {},
  "kernelspec": {
   "display_name": "PTA",
   "language": "python",
   "name": "pta"
  },
  "language_info": {
   "codemirror_mode": {
    "name": "ipython",
    "version": 3
   },
   "file_extension": ".py",
   "mimetype": "text/x-python",
   "name": "python",
   "nbconvert_exporter": "python",
   "pygments_lexer": "ipython3",
   "version": "3.9.16"
  },
  "toc": {
   "nav_menu": {},
   "number_sections": true,
   "sideBar": true,
   "skip_h1_title": false,
   "toc_cell": false,
   "toc_position": {
    "height": "743px",
    "left": "0px",
    "right": "1458px",
    "top": "107px",
    "width": "212px"
   },
   "toc_section_display": "block",
   "toc_window_display": true
  },
  "vscode": {
   "interpreter": {
    "hash": "4ce19c5828a008e3cf8983cfdcfe58fe6d224d6662f743dd69cdaf3d133d248b"
   }
  }
 },
 "nbformat": 4,
 "nbformat_minor": 2
}
