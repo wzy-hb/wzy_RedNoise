{
 "cells": [
  {
   "cell_type": "markdown",
   "metadata": {},
   "source": [
    "# Using `enterprise` to analyze single pulsar noise\n",
    "\n",
    "In this notebook you will learn:\n",
    "* How to use `enterprise` to interact with PTA data,\n",
    "* How to search in PTA data for GWs using a single pulsar,\n",
    "* How to post-process your results.\n",
    "\n",
    "If you are interested in working through this notebook, but do not want to install the software, we have prepared a [Google Colab notebook](https://colab.research.google.com/drive/1sBALRUi6wCykAAKH8Lp5TdS69QUmNgZq#scrollTo=t1FXF9NO5HpG)\n",
    "\n",
    "By copying this notebook, you can install the software to your own Google Colab account and run the software without installation on your computer.\n",
    "\n",
    "This notebook is intended to give quick results while demonstrating the basic process of looking for red noise in a single pulsar with the white noise fixed. If you are interested in searching for the GWB with more pulsars, or if you are interested in correlations of the red noise, please see `pta_gwb_analysis.ipynb`."
   ]
  },
  {
   "cell_type": "markdown",
   "metadata": {},
   "source": [
    "# Load packages and modules"
   ]
  },
  {
   "cell_type": "code",
   "execution_count": 1,
   "metadata": {},
   "outputs": [
    {
     "name": "stderr",
     "output_type": "stream",
     "text": [
      "WARNING: AstropyDeprecationWarning: The private astropy._erfa module has been made into its own package, pyerfa, which is a dependency of astropy and can be imported directly using \"import erfa\" [astropy._erfa]\n"
     ]
    }
   ],
   "source": [
    "from __future__ import division\n",
    "\n",
    "%matplotlib inline\n",
    "%config InlineBackend.figure_format = 'retina'\n",
    "%load_ext autoreload\n",
    "%autoreload 2\n",
    "\n",
    "import os, glob, json, pickle\n",
    "import matplotlib.pyplot as plt\n",
    "import numpy as np\n",
    "import scipy.linalg as sl\n",
    "\n",
    "import enterprise\n",
    "from enterprise.pulsar import Pulsar\n",
    "import enterprise.signals.parameter as parameter\n",
    "from enterprise.signals import utils\n",
    "from enterprise.signals import signal_base\n",
    "from enterprise.signals import selections\n",
    "from enterprise.signals.selections import Selection\n",
    "from enterprise.signals import white_signals\n",
    "from enterprise.signals import gp_signals\n",
    "from enterprise.signals import deterministic_signals\n",
    "import enterprise.constants as const\n",
    "\n",
    "import corner\n",
    "from PTMCMCSampler.PTMCMCSampler import PTSampler as ptmcmc\n",
    "\n",
    "\n",
    "import precession_model"
   ]
  },
  {
   "cell_type": "markdown",
   "metadata": {},
   "source": [
    "## Get par, tim, and noise files"
   ]
  },
  {
   "cell_type": "code",
   "execution_count": 2,
   "metadata": {},
   "outputs": [],
   "source": [
    "psrlist = None # define a list of pulsar name strings that can be used to filter."
   ]
  },
  {
   "cell_type": "code",
   "execution_count": 3,
   "metadata": {},
   "outputs": [
    {
     "name": "stdout",
     "output_type": "stream",
     "text": [
      "../data\n"
     ]
    }
   ],
   "source": [
    "# set the data directory\n",
    "datadir = '../data'\n",
    "print(datadir)"
   ]
  },
  {
   "cell_type": "code",
   "execution_count": 4,
   "metadata": {},
   "outputs": [
    {
     "name": "stdout",
     "output_type": "stream",
     "text": [
      "['../data/par/B1937+21_NANOGrav_12yv3.gls.par']\n",
      "['../data/tim/B1937+21_NANOGrav_12yv3.tim']\n"
     ]
    }
   ],
   "source": [
    "# for the entire pta\n",
    "psrname = 'B1937+21'\n",
    "parfiles = sorted(glob.glob(datadir + '/par/' + psrname + '*par'))\n",
    "timfiles = sorted(glob.glob(datadir + '/tim/' + psrname + '*tim'))\n",
    "\n",
    "print(parfiles)\n",
    "print(timfiles)"
   ]
  },
  {
   "cell_type": "markdown",
   "metadata": {},
   "source": [
    "## Load into Pulsar class list\n",
    "* The `enterprise` Pulsar class uses `libstempo` (or optionally `PINT`) to read in `par` and `tim` files, then stores all pulsar data into a `Pulsar` object. This object contains all data and meta-data needed for the ensuing pulsar and PTA analysis. You no longer to reference the `par` and `tim` files after this cell.\n",
    "* Note below that you can explicitly declare which version of the JPL solar-system ephemeris model that will be used to compute the Roemer delay between the geocenter and the barycenter (e.g. `DE438`). Otherwise the default values will be taken from the `par` files. Explicitly declaring the version here is good practice."
   ]
  },
  {
   "cell_type": "code",
   "execution_count": 5,
   "metadata": {},
   "outputs": [
    {
     "name": "stdout",
     "output_type": "stream",
     "text": [
      "[tempo2Util.C:396] Warning: [MISC1] Unknown parameter in par file:  DMX\n",
      "[tempo2Util.C:401] Warning: [DUP1] duplicated warnings have been suppressed.\n",
      "\n",
      "WARNING: Using tempo RNAMP parameter: setting TNRedC to 100!\n",
      "[tempo2Util.C:396] Warning: [PAR2] Have not set a DM epoch. The period epoch will be used instead. ../par/B1937+21_NANOGrav_12yv3.gls.par\n",
      "[tempo2Util.C:396] Warning: [TIM1] Please place MODE flags in the parameter file \n",
      "[observatory.C:272] Warning: Assuming site '1' means 'gbt'\n",
      "[observatory.C:272] Warning: Assuming site '3' means 'ao'\n"
     ]
    }
   ],
   "source": [
    "psrs = []\n",
    "ephemeris = 'DE438'\n",
    "for p, t in zip(parfiles, timfiles):\n",
    "    psr = Pulsar(p, t, ephem=ephemeris)\n",
    "    psrs.append(psr)"
   ]
  },
  {
   "cell_type": "markdown",
   "metadata": {},
   "source": [
    "* We can read-in some previously computed noise properties from single-pulsar white noise analyses. These are things like `EFAC`, `EQUAD`, and (for `NANOGrav`) `ECORR`. \n",
    "* In practice, we set these white-noise properties as fixed in the low-frequency noise / GW searches.\n",
    "* See `singlepulsar_whitenoise_analysis.ipynb` to see the methods used to find these values.\n",
    "* The noise properties have been stored as `json` files, and are read in to a big parameter dictionary."
   ]
  },
  {
   "cell_type": "code",
   "execution_count": 6,
   "metadata": {},
   "outputs": [
    {
     "name": "stdout",
     "output_type": "stream",
     "text": [
      "../data/channelized_12p5yr_v3_full_noisedict.json\n"
     ]
    }
   ],
   "source": [
    "## Get parameter noise dictionary\n",
    "noise_ng12 = datadir + '/channelized_12p5yr_v3_full_noisedict.json'\n",
    "print(noise_ng12)\n",
    "params = {}\n",
    "with open(noise_ng12, 'r') as fp:\n",
    "    params.update(json.load(fp))"
   ]
  },
  {
   "cell_type": "code",
   "execution_count": 7,
   "metadata": {},
   "outputs": [
    {
     "name": "stdout",
     "output_type": "stream",
     "text": [
      "[4602276511.100282]\n",
      "[5005342074.766501]\n"
     ]
    }
   ],
   "source": [
    "# find the maximum time span to set GW frequency sampling\n",
    "tmin = [p.toas.min() for p in psrs]\n",
    "tmax = [p.toas.max() for p in psrs]\n",
    "Tspan = np.max(tmax) - np.min(tmin)\n",
    "print(tmin)\n",
    "print(tmax)"
   ]
  },
  {
   "cell_type": "markdown",
   "metadata": {},
   "source": [
    "* Usually, in a full PTA analysis we fix all of the white noise (EFAC, EQUAD, and ECORR) parameters to the values obtained from the noise files. This is done by using `Constant` parameters. In this case we do not specify a default value for all instances of that parameter but instead will set them, based on their initialized pulsar and backend specific name later via the `set_default_params` method of `PTA`.\n",
    "\n",
    "* For a single pulsar, it is not necessary to set the white noise as constant, but the computation time will increase with the increase in number of parameters. For this notebook, we set it as constant.\n",
    "\n",
    "* We use the `Selection` object to define which noise parameters are assigned to which chunks of TOAs. This selection is based on unique combination of backends and receivers."
   ]
  },
  {
   "cell_type": "code",
   "execution_count": 8,
   "metadata": {},
   "outputs": [],
   "source": [
    "# define selection by observing backend\n",
    "selection = selections.Selection(selections.by_backend)"
   ]
  },
  {
   "cell_type": "markdown",
   "metadata": {},
   "source": [
    "### Parameters\n",
    "* For this **detection** search, we will use a `Uniform` prior on the red noise, and set the white noise parameters as `Constant` with values added in later from the noise dictionary.\n",
    "\n",
    "* In a single pulsar analysis, we can't look at spatial correlations. So we will exclude them here. They are mentioned in the full PTA analysis in the `pta_gwb_analysis.ipynb` notebook."
   ]
  },
  {
   "cell_type": "code",
   "execution_count": 9,
   "metadata": {},
   "outputs": [],
   "source": [
    "# white noise parameters\n",
    "efac = parameter.Constant() \n",
    "equad = parameter.Constant() \n",
    "ecorr = parameter.Constant() # we'll set these later with the params dictionary\n",
    "\n",
    "# red noise parameters\n",
    "\n",
    "# dm-variation parameters\n",
    "log10_A_dm = parameter.Uniform(-20, -11)\n",
    "gamma_dm = parameter.Uniform(0, 7)\n"
   ]
  },
  {
   "cell_type": "markdown",
   "metadata": {},
   "source": [
    "### Signals"
   ]
  },
  {
   "cell_type": "code",
   "execution_count": 10,
   "metadata": {},
   "outputs": [],
   "source": [
    "# white noise\n",
    "ef = white_signals.MeasurementNoise(efac=efac, log10_t2equad=equad, selection=selection)\n",
    "ec = white_signals.EcorrKernelNoise(log10_ecorr=ecorr, selection=selection)\n",
    "\n",
    "# red noise (powerlaw with 30 frequencies)\n",
    "rn = precession_model.RedNoise_delay_block()\n",
    "\n",
    "# timing model\n",
    "tm = gp_signals.TimingModel(use_svd=True)"
   ]
  },
  {
   "cell_type": "code",
   "execution_count": 11,
   "metadata": {},
   "outputs": [
    {
     "name": "stdout",
     "output_type": "stream",
     "text": [
      "<class 'enterprise.signals.signal_base.SignalCollection.<locals>.SignalCollection'>\n"
     ]
    }
   ],
   "source": [
    "# full model\n",
    "s = ef + ec + rn + tm \n",
    "print(s)"
   ]
  },
  {
   "cell_type": "code",
   "execution_count": 12,
   "metadata": {},
   "outputs": [],
   "source": [
    "# intialize PTA (this cell will take a minute or two to run)\n",
    "models = []\n",
    "        \n",
    "for p in psrs:    \n",
    "    models.append(s(p))\n",
    "    \n",
    "pta = signal_base.PTA(models)"
   ]
  },
  {
   "cell_type": "code",
   "execution_count": 13,
   "metadata": {},
   "outputs": [
    {
     "data": {
      "text/plain": [
       "['RedNoise_P', 'RedNoise_a1', 'RedNoise_a2', 'RedNoise_k', 'RedNoise_t0']"
      ]
     },
     "execution_count": 13,
     "metadata": {},
     "output_type": "execute_result"
    }
   ],
   "source": [
    "pta.param_names"
   ]
  },
  {
   "cell_type": "code",
   "execution_count": 14,
   "metadata": {},
   "outputs": [],
   "source": [
    "# set white noise parameters with dictionary\n",
    "pta.set_default_params(params)"
   ]
  },
  {
   "cell_type": "code",
   "execution_count": 15,
   "metadata": {},
   "outputs": [],
   "source": [
    "# set initial parameters drawn from prior\n",
    "x0 = np.hstack([p.sample() for p in pta.params])\n",
    "ndim = len(x0)"
   ]
  },
  {
   "cell_type": "code",
   "execution_count": 16,
   "metadata": {},
   "outputs": [],
   "source": [
    "# set up the sampler:\n",
    "# initial jump covariance matrix\n",
    "cov = np.diag(np.ones(ndim) * 0.01**2)\n",
    "outDir = '../chains_pta_gwb'\n",
    "\n",
    "sampler = ptmcmc(ndim, pta.get_lnlikelihood, pta.get_lnprior, cov, \n",
    "                 outDir=outDir, resume=False)"
   ]
  },
  {
   "cell_type": "code",
   "execution_count": null,
   "metadata": {
    "scrolled": true
   },
   "outputs": [
    {
     "name": "stderr",
     "output_type": "stream",
     "text": [
      "/home/wzy/miniconda3/envs/PTA/lib/python3.9/site-packages/enterprise/signals/parameter.py:62: RuntimeWarning: divide by zero encountered in log\n",
      "  logpdf = np.log(self.prior(value, **kwargs))\n"
     ]
    },
    {
     "name": "stdout",
     "output_type": "stream",
     "text": [
      "Finished 1.00 percent in 1536.097142 s Acceptance rate = 0.0291111Adding DE jump with weight 50\n",
      "Finished 53.40 percent in 238236.409410 s Acceptance rate = 0.151996"
     ]
    }
   ],
   "source": [
    "# sampler for N steps (this should take about 15 mins.)\n",
    "N = int(1e6)  # normally, we would use 5e6 samples (this will save time)\n",
    "x0 = np.hstack([p.sample() for p in pta.params])\n",
    "sampler.sample(x0, N, SCAMweight=30, AMweight=15, DEweight=50, )"
   ]
  },
  {
   "cell_type": "code",
   "execution_count": null,
   "metadata": {},
   "outputs": [],
   "source": [
    "chain = np.loadtxt(os.path.join(outDir, 'chain_1.txt'))\n",
    "burn = int(0.25 * chain.shape[0])"
   ]
  },
  {
   "cell_type": "code",
   "execution_count": null,
   "metadata": {},
   "outputs": [],
   "source": [
    "ind_k = list(pta.param_names).index('RedNoise_k')\n",
    "ind_P = list(pta.param_names).index('RedNoise_P')\n",
    "ind_a1 = list(pta.param_names).index('RedNoise_a1')\n",
    "ind_a2 = list(pta.param_names).index('RedNoise_a2')\n",
    "ind_t0 = list(pta.param_names).index('RedNoise_t0')"
   ]
  },
  {
   "cell_type": "code",
   "execution_count": null,
   "metadata": {},
   "outputs": [],
   "source": [
    "# Make trace-plot to diagnose sampling\n",
    "plt.plot(chain[burn:, ind_k])"
   ]
  },
  {
   "cell_type": "code",
   "execution_count": null,
   "metadata": {},
   "outputs": [],
   "source": [
    "plt.plot(chain[burn:, ind_P])"
   ]
  },
  {
   "cell_type": "code",
   "execution_count": null,
   "metadata": {},
   "outputs": [],
   "source": [
    "plt.plot(chain[burn:, ind_a1])"
   ]
  },
  {
   "cell_type": "code",
   "execution_count": null,
   "metadata": {},
   "outputs": [],
   "source": [
    "plt.plot(chain[burn:, ind_a2])"
   ]
  },
  {
   "cell_type": "code",
   "execution_count": null,
   "metadata": {},
   "outputs": [],
   "source": [
    "plt.plot(chain[burn:, ind_t0])"
   ]
  },
  {
   "cell_type": "code",
   "execution_count": null,
   "metadata": {},
   "outputs": [],
   "source": [
    "# Plot a histogram of the marginalized posterior distribution\n",
    "plt.hist(chain[burn:,ind_k], 50, histtype='stepfilled', \n",
    "         lw=2, color='C0', alpha=0.5)\n",
    "plt.xlabel('RedNoise_k')\n",
    "plt.ylabel('PDF')"
   ]
  },
  {
   "cell_type": "code",
   "execution_count": null,
   "metadata": {},
   "outputs": [],
   "source": [
    "plt.hist(chain[burn:,ind_P], 50, histtype='stepfilled', \n",
    "         lw=2, color='C0', alpha=0.5)\n",
    "plt.xlabel('RedNoise_P')\n",
    "plt.ylabel('PDF')"
   ]
  },
  {
   "cell_type": "code",
   "execution_count": null,
   "metadata": {},
   "outputs": [],
   "source": [
    "plt.hist(chain[burn:,ind_a1], 50, histtype='stepfilled', \n",
    "         lw=2, color='C0', alpha=0.5)\n",
    "plt.xlabel('RedNoise_a1')\n",
    "plt.ylabel('PDF')"
   ]
  },
  {
   "cell_type": "code",
   "execution_count": null,
   "metadata": {},
   "outputs": [],
   "source": [
    "plt.hist(chain[burn:,ind_a2], 50, histtype='stepfilled', \n",
    "         lw=2, color='C0', alpha=0.5)\n",
    "plt.xlabel('RedNoise_a2')\n",
    "plt.ylabel('PDF')"
   ]
  },
  {
   "cell_type": "code",
   "execution_count": null,
   "metadata": {
    "scrolled": false
   },
   "outputs": [],
   "source": [
    "plt.hist(chain[burn:,ind_t0], 50, histtype='stepfilled', \n",
    "         lw=2, color='C0', alpha=0.5)\n",
    "plt.xlabel('RedNoise_t0')\n",
    "plt.ylabel('PDF')"
   ]
  },
  {
   "cell_type": "code",
   "execution_count": null,
   "metadata": {},
   "outputs": [],
   "source": []
  }
 ],
 "metadata": {
  "kernelspec": {
   "display_name": "PTA",
   "language": "python",
   "name": "pta"
  },
  "language_info": {
   "codemirror_mode": {
    "name": "ipython",
    "version": 3
   },
   "file_extension": ".py",
   "mimetype": "text/x-python",
   "name": "python",
   "nbconvert_exporter": "python",
   "pygments_lexer": "ipython3",
   "version": "3.9.13"
  },
  "vscode": {
   "interpreter": {
    "hash": "4ce19c5828a008e3cf8983cfdcfe58fe6d224d6662f743dd69cdaf3d133d248b"
   }
  }
 },
 "nbformat": 4,
 "nbformat_minor": 2
}
